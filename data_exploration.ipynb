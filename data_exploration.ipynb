{
 "cells": [
  {
   "cell_type": "code",
   "execution_count": 2,
   "id": "composed-rocket",
   "metadata": {},
   "outputs": [],
   "source": [
    "import pandas as pd\n",
    "import numpy as np\n",
    "%matplotlib inline\n",
    "import matplotlib as mpl\n",
    "import matplotlib.pyplot as plt"
   ]
  },
  {
   "cell_type": "code",
   "execution_count": 4,
   "id": "manufactured-guatemala",
   "metadata": {},
   "outputs": [],
   "source": [
    "stocks = pd.read_csv('merged_stocks_NDX100.csv')\n",
    "posts = pd.read_csv('merged_posts_NDX100.csv')"
   ]
  },
  {
   "cell_type": "markdown",
   "id": "understood-anatomy",
   "metadata": {},
   "source": [
    "# Data Exploration of WSB Posts"
   ]
  },
  {
   "cell_type": "code",
   "execution_count": 7,
   "id": "proved-weekly",
   "metadata": {},
   "outputs": [
    {
     "data": {
      "text/html": [
       "<div>\n",
       "<style scoped>\n",
       "    .dataframe tbody tr th:only-of-type {\n",
       "        vertical-align: middle;\n",
       "    }\n",
       "\n",
       "    .dataframe tbody tr th {\n",
       "        vertical-align: top;\n",
       "    }\n",
       "\n",
       "    .dataframe thead th {\n",
       "        text-align: right;\n",
       "    }\n",
       "</style>\n",
       "<table border=\"1\" class=\"dataframe\">\n",
       "  <thead>\n",
       "    <tr style=\"text-align: right;\">\n",
       "      <th></th>\n",
       "      <th>title</th>\n",
       "      <th>score</th>\n",
       "      <th>num_comments</th>\n",
       "      <th>body</th>\n",
       "      <th>created</th>\n",
       "      <th>Stock</th>\n",
       "      <th>Date</th>\n",
       "    </tr>\n",
       "  </thead>\n",
       "  <tbody>\n",
       "    <tr>\n",
       "      <th>0</th>\n",
       "      <td>Earnings 5/22 BMO - AutoZone [AZO] &amp; Ralph Lau...</td>\n",
       "      <td>5</td>\n",
       "      <td>7</td>\n",
       "      <td>Both companies report Before Market Opens, so ...</td>\n",
       "      <td>1.337613e+09</td>\n",
       "      <td>PEP</td>\n",
       "      <td>2012-05-21 11:18:05</td>\n",
       "    </tr>\n",
       "    <tr>\n",
       "      <th>1</th>\n",
       "      <td>[Biotech] Notice for July plays</td>\n",
       "      <td>12</td>\n",
       "      <td>7</td>\n",
       "      <td>**[SUPN] Supernus Pharm.**\\n\\n* SPN-538-epilip...</td>\n",
       "      <td>1.339470e+09</td>\n",
       "      <td>AMRN</td>\n",
       "      <td>2012-06-11 23:00:46</td>\n",
       "    </tr>\n",
       "    <tr>\n",
       "      <th>2</th>\n",
       "      <td>[ARNA] Our arrows will block out the sun</td>\n",
       "      <td>14</td>\n",
       "      <td>15</td>\n",
       "      <td>Then we will fight in the shade. - Dienekes\\n\\...</td>\n",
       "      <td>1.340672e+09</td>\n",
       "      <td>AMRN</td>\n",
       "      <td>2012-06-25 21:00:11</td>\n",
       "    </tr>\n",
       "    <tr>\n",
       "      <th>3</th>\n",
       "      <td>[AMRN] 889 patent approval unofficially out?</td>\n",
       "      <td>5</td>\n",
       "      <td>8</td>\n",
       "      <td>NaN</td>\n",
       "      <td>1.340789e+09</td>\n",
       "      <td>AMRN</td>\n",
       "      <td>2012-06-27 05:18:31</td>\n",
       "    </tr>\n",
       "    <tr>\n",
       "      <th>4</th>\n",
       "      <td>A good example of a machine-written article fr...</td>\n",
       "      <td>13</td>\n",
       "      <td>1</td>\n",
       "      <td>NaN</td>\n",
       "      <td>1.340821e+09</td>\n",
       "      <td>DLTR</td>\n",
       "      <td>2012-06-27 14:15:53</td>\n",
       "    </tr>\n",
       "  </tbody>\n",
       "</table>\n",
       "</div>"
      ],
      "text/plain": [
       "                                               title  score  num_comments  \\\n",
       "0  Earnings 5/22 BMO - AutoZone [AZO] & Ralph Lau...      5             7   \n",
       "1                    [Biotech] Notice for July plays     12             7   \n",
       "2           [ARNA] Our arrows will block out the sun     14            15   \n",
       "3       [AMRN] 889 patent approval unofficially out?      5             8   \n",
       "4  A good example of a machine-written article fr...     13             1   \n",
       "\n",
       "                                                body       created Stock  \\\n",
       "0  Both companies report Before Market Opens, so ...  1.337613e+09   PEP   \n",
       "1  **[SUPN] Supernus Pharm.**\\n\\n* SPN-538-epilip...  1.339470e+09  AMRN   \n",
       "2  Then we will fight in the shade. - Dienekes\\n\\...  1.340672e+09  AMRN   \n",
       "3                                                NaN  1.340789e+09  AMRN   \n",
       "4                                                NaN  1.340821e+09  DLTR   \n",
       "\n",
       "                  Date  \n",
       "0  2012-05-21 11:18:05  \n",
       "1  2012-06-11 23:00:46  \n",
       "2  2012-06-25 21:00:11  \n",
       "3  2012-06-27 05:18:31  \n",
       "4  2012-06-27 14:15:53  "
      ]
     },
     "execution_count": 7,
     "metadata": {},
     "output_type": "execute_result"
    }
   ],
   "source": [
    "posts.head()"
   ]
  },
  {
   "cell_type": "code",
   "execution_count": 8,
   "id": "dirty-liability",
   "metadata": {},
   "outputs": [
    {
     "name": "stdout",
     "output_type": "stream",
     "text": [
      "<class 'pandas.core.frame.DataFrame'>\n",
      "RangeIndex: 11056 entries, 0 to 11055\n",
      "Data columns (total 7 columns):\n",
      " #   Column        Non-Null Count  Dtype  \n",
      "---  ------        --------------  -----  \n",
      " 0   title         11056 non-null  object \n",
      " 1   score         11056 non-null  int64  \n",
      " 2   num_comments  11056 non-null  int64  \n",
      " 3   body          9383 non-null   object \n",
      " 4   created       11056 non-null  float64\n",
      " 5   Stock         11056 non-null  object \n",
      " 6   Date          11056 non-null  object \n",
      "dtypes: float64(1), int64(2), object(4)\n",
      "memory usage: 604.8+ KB\n"
     ]
    }
   ],
   "source": [
    "posts.info()"
   ]
  },
  {
   "cell_type": "code",
   "execution_count": 13,
   "id": "suspended-latex",
   "metadata": {},
   "outputs": [],
   "source": [
    "posts = posts.dropna()"
   ]
  },
  {
   "cell_type": "markdown",
   "id": "particular-bouquet",
   "metadata": {},
   "source": [
    "# Data Exploration of Stock Data for Nasdaq 100 "
   ]
  },
  {
   "cell_type": "code",
   "execution_count": 9,
   "id": "thorough-shelter",
   "metadata": {},
   "outputs": [
    {
     "data": {
      "text/html": [
       "<div>\n",
       "<style scoped>\n",
       "    .dataframe tbody tr th:only-of-type {\n",
       "        vertical-align: middle;\n",
       "    }\n",
       "\n",
       "    .dataframe tbody tr th {\n",
       "        vertical-align: top;\n",
       "    }\n",
       "\n",
       "    .dataframe thead th {\n",
       "        text-align: right;\n",
       "    }\n",
       "</style>\n",
       "<table border=\"1\" class=\"dataframe\">\n",
       "  <thead>\n",
       "    <tr style=\"text-align: right;\">\n",
       "      <th></th>\n",
       "      <th>Date</th>\n",
       "      <th>Open</th>\n",
       "      <th>High</th>\n",
       "      <th>Low</th>\n",
       "      <th>Close</th>\n",
       "      <th>Adj Close</th>\n",
       "      <th>Volume</th>\n",
       "      <th>Stock</th>\n",
       "    </tr>\n",
       "  </thead>\n",
       "  <tbody>\n",
       "    <tr>\n",
       "      <th>0</th>\n",
       "      <td>2012-04-02</td>\n",
       "      <td>8.030000</td>\n",
       "      <td>8.240000</td>\n",
       "      <td>7.950000</td>\n",
       "      <td>8.200000</td>\n",
       "      <td>8.200000</td>\n",
       "      <td>12477300.0</td>\n",
       "      <td>AMD</td>\n",
       "    </tr>\n",
       "    <tr>\n",
       "      <th>1</th>\n",
       "      <td>2012-04-02</td>\n",
       "      <td>7.113333</td>\n",
       "      <td>7.426667</td>\n",
       "      <td>7.103333</td>\n",
       "      <td>7.373333</td>\n",
       "      <td>6.195442</td>\n",
       "      <td>40511100.0</td>\n",
       "      <td>CSX</td>\n",
       "    </tr>\n",
       "    <tr>\n",
       "      <th>2</th>\n",
       "      <td>2012-04-02</td>\n",
       "      <td>11.830000</td>\n",
       "      <td>11.920000</td>\n",
       "      <td>11.690000</td>\n",
       "      <td>11.890000</td>\n",
       "      <td>11.890000</td>\n",
       "      <td>3035500.0</td>\n",
       "      <td>CDNS</td>\n",
       "    </tr>\n",
       "    <tr>\n",
       "      <th>3</th>\n",
       "      <td>2012-04-02</td>\n",
       "      <td>48.375767</td>\n",
       "      <td>49.332748</td>\n",
       "      <td>48.103600</td>\n",
       "      <td>49.113258</td>\n",
       "      <td>39.553982</td>\n",
       "      <td>3300366.0</td>\n",
       "      <td>ADP</td>\n",
       "    </tr>\n",
       "    <tr>\n",
       "      <th>4</th>\n",
       "      <td>2012-04-02</td>\n",
       "      <td>40.389999</td>\n",
       "      <td>40.459999</td>\n",
       "      <td>39.830002</td>\n",
       "      <td>39.900002</td>\n",
       "      <td>31.797926</td>\n",
       "      <td>2424800.0</td>\n",
       "      <td>ADI</td>\n",
       "    </tr>\n",
       "  </tbody>\n",
       "</table>\n",
       "</div>"
      ],
      "text/plain": [
       "         Date       Open       High        Low      Close  Adj Close  \\\n",
       "0  2012-04-02   8.030000   8.240000   7.950000   8.200000   8.200000   \n",
       "1  2012-04-02   7.113333   7.426667   7.103333   7.373333   6.195442   \n",
       "2  2012-04-02  11.830000  11.920000  11.690000  11.890000  11.890000   \n",
       "3  2012-04-02  48.375767  49.332748  48.103600  49.113258  39.553982   \n",
       "4  2012-04-02  40.389999  40.459999  39.830002  39.900002  31.797926   \n",
       "\n",
       "       Volume Stock  \n",
       "0  12477300.0   AMD  \n",
       "1  40511100.0   CSX  \n",
       "2   3035500.0  CDNS  \n",
       "3   3300366.0   ADP  \n",
       "4   2424800.0   ADI  "
      ]
     },
     "execution_count": 9,
     "metadata": {},
     "output_type": "execute_result"
    }
   ],
   "source": [
    "stocks.head()"
   ]
  },
  {
   "cell_type": "code",
   "execution_count": 10,
   "id": "raising-fashion",
   "metadata": {},
   "outputs": [
    {
     "name": "stdout",
     "output_type": "stream",
     "text": [
      "<class 'pandas.core.frame.DataFrame'>\n",
      "RangeIndex: 228532 entries, 0 to 228531\n",
      "Data columns (total 8 columns):\n",
      " #   Column     Non-Null Count   Dtype  \n",
      "---  ------     --------------   -----  \n",
      " 0   Date       228532 non-null  object \n",
      " 1   Open       228529 non-null  float64\n",
      " 2   High       228529 non-null  float64\n",
      " 3   Low        228529 non-null  float64\n",
      " 4   Close      228529 non-null  float64\n",
      " 5   Adj Close  228529 non-null  float64\n",
      " 6   Volume     228529 non-null  float64\n",
      " 7   Stock      228532 non-null  object \n",
      "dtypes: float64(6), object(2)\n",
      "memory usage: 13.9+ MB\n"
     ]
    }
   ],
   "source": [
    "stocks.info()"
   ]
  },
  {
   "cell_type": "code",
   "execution_count": 11,
   "id": "hybrid-battle",
   "metadata": {},
   "outputs": [],
   "source": [
    "stocks = stocks.dropna()"
   ]
  },
  {
   "cell_type": "code",
   "execution_count": 14,
   "id": "capital-louisiana",
   "metadata": {},
   "outputs": [
    {
     "data": {
      "text/html": [
       "<div>\n",
       "<style scoped>\n",
       "    .dataframe tbody tr th:only-of-type {\n",
       "        vertical-align: middle;\n",
       "    }\n",
       "\n",
       "    .dataframe tbody tr th {\n",
       "        vertical-align: top;\n",
       "    }\n",
       "\n",
       "    .dataframe thead th {\n",
       "        text-align: right;\n",
       "    }\n",
       "</style>\n",
       "<table border=\"1\" class=\"dataframe\">\n",
       "  <thead>\n",
       "    <tr style=\"text-align: right;\">\n",
       "      <th></th>\n",
       "      <th>Open</th>\n",
       "      <th>High</th>\n",
       "      <th>Low</th>\n",
       "      <th>Close</th>\n",
       "      <th>Adj Close</th>\n",
       "      <th>Volume</th>\n",
       "    </tr>\n",
       "  </thead>\n",
       "  <tbody>\n",
       "    <tr>\n",
       "      <th>count</th>\n",
       "      <td>228529.000000</td>\n",
       "      <td>228529.000000</td>\n",
       "      <td>228529.000000</td>\n",
       "      <td>228529.000000</td>\n",
       "      <td>228529.000000</td>\n",
       "      <td>2.285290e+05</td>\n",
       "    </tr>\n",
       "    <tr>\n",
       "      <th>mean</th>\n",
       "      <td>161.459267</td>\n",
       "      <td>163.412265</td>\n",
       "      <td>159.420784</td>\n",
       "      <td>161.465813</td>\n",
       "      <td>158.467701</td>\n",
       "      <td>9.300576e+06</td>\n",
       "    </tr>\n",
       "    <tr>\n",
       "      <th>std</th>\n",
       "      <td>312.132470</td>\n",
       "      <td>315.606234</td>\n",
       "      <td>308.408773</td>\n",
       "      <td>312.039394</td>\n",
       "      <td>312.793558</td>\n",
       "      <td>2.984633e+07</td>\n",
       "    </tr>\n",
       "    <tr>\n",
       "      <th>min</th>\n",
       "      <td>0.840000</td>\n",
       "      <td>0.850000</td>\n",
       "      <td>0.780000</td>\n",
       "      <td>0.830000</td>\n",
       "      <td>0.830000</td>\n",
       "      <td>0.000000e+00</td>\n",
       "    </tr>\n",
       "    <tr>\n",
       "      <th>25%</th>\n",
       "      <td>39.939999</td>\n",
       "      <td>40.419998</td>\n",
       "      <td>39.439999</td>\n",
       "      <td>39.965000</td>\n",
       "      <td>36.410000</td>\n",
       "      <td>1.313300e+06</td>\n",
       "    </tr>\n",
       "    <tr>\n",
       "      <th>50%</th>\n",
       "      <td>73.010002</td>\n",
       "      <td>73.870003</td>\n",
       "      <td>72.190002</td>\n",
       "      <td>73.029999</td>\n",
       "      <td>68.546616</td>\n",
       "      <td>2.654800e+06</td>\n",
       "    </tr>\n",
       "    <tr>\n",
       "      <th>75%</th>\n",
       "      <td>153.410004</td>\n",
       "      <td>155.483337</td>\n",
       "      <td>151.410004</td>\n",
       "      <td>153.509995</td>\n",
       "      <td>150.139999</td>\n",
       "      <td>6.692000e+06</td>\n",
       "    </tr>\n",
       "    <tr>\n",
       "      <th>max</th>\n",
       "      <td>3744.000000</td>\n",
       "      <td>3773.080078</td>\n",
       "      <td>3696.790039</td>\n",
       "      <td>3731.409912</td>\n",
       "      <td>3731.409912</td>\n",
       "      <td>1.460852e+09</td>\n",
       "    </tr>\n",
       "  </tbody>\n",
       "</table>\n",
       "</div>"
      ],
      "text/plain": [
       "                Open           High            Low          Close  \\\n",
       "count  228529.000000  228529.000000  228529.000000  228529.000000   \n",
       "mean      161.459267     163.412265     159.420784     161.465813   \n",
       "std       312.132470     315.606234     308.408773     312.039394   \n",
       "min         0.840000       0.850000       0.780000       0.830000   \n",
       "25%        39.939999      40.419998      39.439999      39.965000   \n",
       "50%        73.010002      73.870003      72.190002      73.029999   \n",
       "75%       153.410004     155.483337     151.410004     153.509995   \n",
       "max      3744.000000    3773.080078    3696.790039    3731.409912   \n",
       "\n",
       "           Adj Close        Volume  \n",
       "count  228529.000000  2.285290e+05  \n",
       "mean      158.467701  9.300576e+06  \n",
       "std       312.793558  2.984633e+07  \n",
       "min         0.830000  0.000000e+00  \n",
       "25%        36.410000  1.313300e+06  \n",
       "50%        68.546616  2.654800e+06  \n",
       "75%       150.139999  6.692000e+06  \n",
       "max      3731.409912  1.460852e+09  "
      ]
     },
     "execution_count": 14,
     "metadata": {},
     "output_type": "execute_result"
    }
   ],
   "source": [
    "stocks.describe()"
   ]
  },
  {
   "cell_type": "code",
   "execution_count": 18,
   "id": "published-bikini",
   "metadata": {},
   "outputs": [
    {
     "data": {
      "text/plain": [
       "array([[<matplotlib.axes._subplots.AxesSubplot object at 0x7fbcea6da850>,\n",
       "        <matplotlib.axes._subplots.AxesSubplot object at 0x7fbceb101590>],\n",
       "       [<matplotlib.axes._subplots.AxesSubplot object at 0x7fbceb113bd0>,\n",
       "        <matplotlib.axes._subplots.AxesSubplot object at 0x7fbceb141290>],\n",
       "       [<matplotlib.axes._subplots.AxesSubplot object at 0x7fbceb176910>,\n",
       "        <matplotlib.axes._subplots.AxesSubplot object at 0x7fbceb1abf90>]],\n",
       "      dtype=object)"
      ]
     },
     "execution_count": 18,
     "metadata": {},
     "output_type": "execute_result"
    },
    {
     "data": {
      "image/png": "[encoded data removed]",
      "text/plain": [
       "<Figure size 1080x1080 with 6 Axes>"
      ]
     },
     "metadata": {
      "needs_background": "light"
     },
     "output_type": "display_data"
    }
   ],
   "source": [
    "stocks.hist(bins=50, figsize=(15,15))"
   ]
  },
  {
   "cell_type": "code",
   "execution_count": 17,
   "id": "tired-there",
   "metadata": {},
   "outputs": [
    {
     "data": {
      "text/plain": [
       "array([[<matplotlib.axes._subplots.AxesSubplot object at 0x7fbcfb0abed0>,\n",
       "        <matplotlib.axes._subplots.AxesSubplot object at 0x7fbce5426ad0>],\n",
       "       [<matplotlib.axes._subplots.AxesSubplot object at 0x7fbce543d150>,\n",
       "        <matplotlib.axes._subplots.AxesSubplot object at 0x7fbce572e7d0>],\n",
       "       [<matplotlib.axes._subplots.AxesSubplot object at 0x7fbce8b3de50>,\n",
       "        <matplotlib.axes._subplots.AxesSubplot object at 0x7fbce8b7f510>]],\n",
       "      dtype=object)"
      ]
     },
     "execution_count": 17,
     "metadata": {},
     "output_type": "execute_result"
    },
    {
     "data": {
      "image/png": "[encoded data removed]",
      "text/plain": [
       "<Figure size 1080x1080 with 6 Axes>"
      ]
     },
     "metadata": {
      "needs_background": "light"
     },
     "output_type": "display_data"
    }
   ],
   "source": [
    "stocks.hist(bins=50, figsize=(15,15), log=True)"
   ]
  },
  {
   "cell_type": "code",
   "execution_count": 30,
   "id": "needed-vinyl",
   "metadata": {},
   "outputs": [
    {
     "data": {
      "text/plain": [
       "<matplotlib.axes._subplots.AxesSubplot at 0x7fbcea090d50>"
      ]
     },
     "execution_count": 30,
     "metadata": {},
     "output_type": "execute_result"
    },
    {
     "data": {
      "image/png": "[encoded data removed]",
      "text/plain": [
       "<Figure size 432x288 with 1 Axes>"
      ]
     },
     "metadata": {
      "needs_background": "light"
     },
     "output_type": "display_data"
    },
    {
     "data": {
      "image/png": "[encoded data removed]",
      "text/plain": [
       "<Figure size 432x288 with 1 Axes>"
      ]
     },
     "metadata": {
      "needs_background": "light"
     },
     "output_type": "display_data"
    }
   ],
   "source": [
    "# open vs volume\n",
    "stocks.plot(kind=\"scatter\", x=\"Open\", y=\"Volume\", alpha=0.2)\n",
    "\n",
    "# adj close vs volume\n",
    "stocks.plot(kind=\"scatter\", x=\"Adj Close\", y=\"Volume\", alpha=0.2)"
   ]
  },
  {
   "cell_type": "code",
   "execution_count": null,
   "id": "tropical-grounds",
   "metadata": {},
   "outputs": [],
   "source": []
  }
 ],
 "metadata": {
  "kernelspec": {
   "display_name": "Python 3",
   "language": "python",
   "name": "python3"
  },
  "language_info": {
   "codemirror_mode": {
    "name": "ipython",
    "version": 3
   },
   "file_extension": ".py",
   "mimetype": "text/x-python",
   "name": "python",
   "nbconvert_exporter": "python",
   "pygments_lexer": "ipython3",
   "version": "3.7.9"
  }
 },
 "nbformat": 4,
 "nbformat_minor": 5
}
