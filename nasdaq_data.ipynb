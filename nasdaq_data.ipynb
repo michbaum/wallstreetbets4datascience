{
 "cells": [
  {
   "cell_type": "markdown",
   "id": "2b476be2",
   "metadata": {},
   "source": [
    "Source of scraping script: https://www.kaggle.com/code/michaelbaumgartner/download-nasdaq-historical-data/edit"
   ]
  },
  {
   "cell_type": "code",
   "execution_count": 1,
   "id": "oriental-central",
   "metadata": {},
   "outputs": [],
   "source": [
    "offset = 0\n",
    "# limit = 3000\n",
    "period = '10y' # valid periods: 1d,5d,1mo,3mo,6mo,1y,2y,5y,10y,ytd,max"
   ]
  },
  {
   "cell_type": "code",
   "execution_count": 2,
   "id": "israeli-maine",
   "metadata": {},
   "outputs": [
    {
     "name": "stdout",
     "output_type": "stream",
     "text": [
      "total number of symbols traded = 9273\n"
     ]
    }
   ],
   "source": [
    "import pandas as pd\n",
    "\n",
    "data = pd.read_csv(\"http://www.nasdaqtrader.com/dynamic/SymDir/nasdaqtraded.txt\", sep='|')\n",
    "data_clean = data[data['Test Issue'] == 'N']\n",
    "data_clean = data_clean[data_clean['ETF']=='N']\n",
    "symbols = data_clean['NASDAQ Symbol'].tolist()\n",
    "print('total number of symbols traded = {}'.format(len(symbols)))"
   ]
  },
  {
   "cell_type": "code",
   "execution_count": 11,
   "id": "cutting-management",
   "metadata": {},
   "outputs": [
    {
     "data": {
      "text/html": [
       "<div>\n",
       "<style scoped>\n",
       "    .dataframe tbody tr th:only-of-type {\n",
       "        vertical-align: middle;\n",
       "    }\n",
       "\n",
       "    .dataframe tbody tr th {\n",
       "        vertical-align: top;\n",
       "    }\n",
       "\n",
       "    .dataframe thead th {\n",
       "        text-align: right;\n",
       "    }\n",
       "</style>\n",
       "<table border=\"1\" class=\"dataframe\">\n",
       "  <thead>\n",
       "    <tr style=\"text-align: right;\">\n",
       "      <th></th>\n",
       "      <th>title</th>\n",
       "      <th>score</th>\n",
       "      <th>num_comments</th>\n",
       "      <th>body</th>\n",
       "      <th>created</th>\n",
       "      <th>stock</th>\n",
       "    </tr>\n",
       "  </thead>\n",
       "  <tbody>\n",
       "    <tr>\n",
       "      <th>0</th>\n",
       "      <td>AAPL vs TSLA apes near ATH's</td>\n",
       "      <td>22</td>\n",
       "      <td>9</td>\n",
       "      <td>NaN</td>\n",
       "      <td>1.649159e+09</td>\n",
       "      <td>AAPL</td>\n",
       "    </tr>\n",
       "    <tr>\n",
       "      <th>1</th>\n",
       "      <td>$TSLA prediction using Wyckoff Result vs Effor...</td>\n",
       "      <td>28</td>\n",
       "      <td>34</td>\n",
       "      <td>First off, I'm not a financial advisor, I am a...</td>\n",
       "      <td>1.648973e+09</td>\n",
       "      <td>AAPL</td>\n",
       "    </tr>\n",
       "    <tr>\n",
       "      <th>2</th>\n",
       "      <td>I SPY, AAPL, GME, and TSLA TA - 4/4 Scalpers D...</td>\n",
       "      <td>39</td>\n",
       "      <td>10</td>\n",
       "      <td># Economic Calendar - April 4, 2022\\n\\nhttps:/...</td>\n",
       "      <td>1.648909e+09</td>\n",
       "      <td>AAPL</td>\n",
       "    </tr>\n",
       "    <tr>\n",
       "      <th>3</th>\n",
       "      <td>SPY &amp; AAPL Gains this past week</td>\n",
       "      <td>48</td>\n",
       "      <td>14</td>\n",
       "      <td>NaN</td>\n",
       "      <td>1.648855e+09</td>\n",
       "      <td>AAPL</td>\n",
       "    </tr>\n",
       "    <tr>\n",
       "      <th>4</th>\n",
       "      <td>Eating an AAPL in My TSLA Outside GME - Scalpe...</td>\n",
       "      <td>152</td>\n",
       "      <td>32</td>\n",
       "      <td>&gt;Don't be a square when you can be a rectangle...</td>\n",
       "      <td>1.648684e+09</td>\n",
       "      <td>AAPL</td>\n",
       "    </tr>\n",
       "    <tr>\n",
       "      <th>...</th>\n",
       "      <td>...</td>\n",
       "      <td>...</td>\n",
       "      <td>...</td>\n",
       "      <td>...</td>\n",
       "      <td>...</td>\n",
       "      <td>...</td>\n",
       "    </tr>\n",
       "    <tr>\n",
       "      <th>270</th>\n",
       "      <td>[SERIOUS DD] on **TSMC**</td>\n",
       "      <td>73</td>\n",
       "      <td>34</td>\n",
       "      <td>Ok guys, so my weekly 2-day WSB ban has expire...</td>\n",
       "      <td>1.536718e+09</td>\n",
       "      <td>MFG</td>\n",
       "    </tr>\n",
       "    <tr>\n",
       "      <th>271</th>\n",
       "      <td>Upcoming Catalysts – Week Ending Friday, Octob...</td>\n",
       "      <td>204</td>\n",
       "      <td>60</td>\n",
       "      <td>Hello and happy Thursday night or Friday morni...</td>\n",
       "      <td>1.475196e+09</td>\n",
       "      <td>MFG</td>\n",
       "    </tr>\n",
       "    <tr>\n",
       "      <th>272</th>\n",
       "      <td>NVDA supply chain / mfg issues?</td>\n",
       "      <td>3</td>\n",
       "      <td>7</td>\n",
       "      <td>Hear me out here:  \\nSo I'm slightly intereste...</td>\n",
       "      <td>1.470760e+09</td>\n",
       "      <td>MFG</td>\n",
       "    </tr>\n",
       "    <tr>\n",
       "      <th>273</th>\n",
       "      <td>FSLR DD and speculation</td>\n",
       "      <td>2</td>\n",
       "      <td>2</td>\n",
       "      <td>1. First solar has a conservative and vertical...</td>\n",
       "      <td>1.460428e+09</td>\n",
       "      <td>MFG</td>\n",
       "    </tr>\n",
       "    <tr>\n",
       "      <th>274</th>\n",
       "      <td>Tomorrow reports discussion (February 27th)</td>\n",
       "      <td>2</td>\n",
       "      <td>0</td>\n",
       "      <td>Rig Count --&gt; Unsure.\\n\\nPrelim GDP --&gt; Meet e...</td>\n",
       "      <td>1.425006e+09</td>\n",
       "      <td>MFG</td>\n",
       "    </tr>\n",
       "  </tbody>\n",
       "</table>\n",
       "<p>275 rows × 6 columns</p>\n",
       "</div>"
      ],
      "text/plain": [
       "                                                 title  score  num_comments  \\\n",
       "0                         AAPL vs TSLA apes near ATH's     22             9   \n",
       "1    $TSLA prediction using Wyckoff Result vs Effor...     28            34   \n",
       "2    I SPY, AAPL, GME, and TSLA TA - 4/4 Scalpers D...     39            10   \n",
       "3                      SPY & AAPL Gains this past week     48            14   \n",
       "4    Eating an AAPL in My TSLA Outside GME - Scalpe...    152            32   \n",
       "..                                                 ...    ...           ...   \n",
       "270                           [SERIOUS DD] on **TSMC**     73            34   \n",
       "271  Upcoming Catalysts – Week Ending Friday, Octob...    204            60   \n",
       "272                    NVDA supply chain / mfg issues?      3             7   \n",
       "273                            FSLR DD and speculation      2             2   \n",
       "274        Tomorrow reports discussion (February 27th)      2             0   \n",
       "\n",
       "                                                  body       created stock  \n",
       "0                                                  NaN  1.649159e+09  AAPL  \n",
       "1    First off, I'm not a financial advisor, I am a...  1.648973e+09  AAPL  \n",
       "2    # Economic Calendar - April 4, 2022\\n\\nhttps:/...  1.648909e+09  AAPL  \n",
       "3                                                  NaN  1.648855e+09  AAPL  \n",
       "4    >Don't be a square when you can be a rectangle...  1.648684e+09  AAPL  \n",
       "..                                                 ...           ...   ...  \n",
       "270  Ok guys, so my weekly 2-day WSB ban has expire...  1.536718e+09   MFG  \n",
       "271  Hello and happy Thursday night or Friday morni...  1.475196e+09   MFG  \n",
       "272  Hear me out here:  \\nSo I'm slightly intereste...  1.470760e+09   MFG  \n",
       "273  1. First solar has a conservative and vertical...  1.460428e+09   MFG  \n",
       "274  Rig Count --> Unsure.\\n\\nPrelim GDP --> Meet e...  1.425006e+09   MFG  \n",
       "\n",
       "[275 rows x 6 columns]"
      ]
     },
     "execution_count": 11,
     "metadata": {},
     "output_type": "execute_result"
    }
   ],
   "source": [
    "a = pd.read_csv('../merged_posts1.csv')\n",
    "a"
   ]
  },
  {
   "cell_type": "code",
   "execution_count": 9,
   "id": "previous-provincial",
   "metadata": {},
   "outputs": [],
   "source": [
    "! pip3 install yfinance > /dev/null 2>&1\n",
    "! mkdir hist"
   ]
  },
  {
   "cell_type": "code",
   "execution_count": 4,
   "id": "hawaiian-genome",
   "metadata": {},
   "outputs": [],
   "source": [
    "import yfinance as yf\n",
    "import os, contextlib"
   ]
  },
  {
   "cell_type": "code",
   "execution_count": 5,
   "id": "b2504580",
   "metadata": {},
   "outputs": [],
   "source": [
    "%%time\n",
    "\n",
    "limit = len(symbols)\n",
    "end = min(offset + limit, len(symbols))\n",
    "is_valid = [False] * len(symbols)\n",
    "# force silencing of verbose API\n",
    "with open(os.devnull, 'w') as devnull:\n",
    "    with contextlib.redirect_stdout(devnull):\n",
    "        for i in range(offset, end):\n",
    "            s = symbols[i]\n",
    "            data = yf.download(s, period=period)\n",
    "            if len(data.index) == 0:\n",
    "                continue\n",
    "        \n",
    "            is_valid[i] = True\n",
    "            data.to_csv('hist/{}.csv'.format(s))\n",
    "\n",
    "print('Total number of valid symbols downloaded = {}'.format(sum(is_valid)))"
   ]
  },
  {
   "cell_type": "code",
   "execution_count": null,
   "id": "afafcff8",
   "metadata": {},
   "outputs": [],
   "source": [
    "valid_data = data_clean[is_valid]\n",
    "valid_data.to_csv('symbols_valid_meta.csv', index=False)"
   ]
  },
  {
   "cell_type": "code",
   "execution_count": null,
   "id": "fb17d4d5",
   "metadata": {},
   "outputs": [],
   "source": [
    "!mkdir stocks\n",
    "!mkdir etfs"
   ]
  },
  {
   "cell_type": "code",
   "execution_count": null,
   "id": "6025f0a4",
   "metadata": {},
   "outputs": [],
   "source": [
    "etfs = valid_data[valid_data['ETF'] == 'Y']['NASDAQ Symbol'].tolist()\n",
    "stocks = valid_data[valid_data['ETF'] == 'N']['NASDAQ Symbol'].tolist()"
   ]
  },
  {
   "cell_type": "code",
   "execution_count": null,
   "id": "d53ae5a1",
   "metadata": {},
   "outputs": [],
   "source": [
    "import shutil\n",
    "from os.path import isfile, join\n",
    "\n",
    "def move_symbols(symbols, dest):\n",
    "    for s in symbols:\n",
    "        filename = '{}.csv'.format(s)\n",
    "        shutil.move(join('hist', filename), join(dest, filename))\n",
    "        \n",
    "move_symbols(etfs, \"etfs\")\n",
    "move_symbols(stocks, \"stocks\")"
   ]
  },
  {
   "cell_type": "code",
   "execution_count": null,
   "id": "df3a77a4",
   "metadata": {},
   "outputs": [],
   "source": [
    "! rmdir hist"
   ]
  }
 ],
 "metadata": {
  "kernelspec": {
   "display_name": "Python 3",
   "language": "python",
   "name": "python3"
  },
  "language_info": {
   "codemirror_mode": {
    "name": "ipython",
    "version": 3
   },
   "file_extension": ".py",
   "mimetype": "text/x-python",
   "name": "python",
   "nbconvert_exporter": "python",
   "pygments_lexer": "ipython3",
   "version": "3.7.9"
  }
 },
 "nbformat": 4,
 "nbformat_minor": 5
}
