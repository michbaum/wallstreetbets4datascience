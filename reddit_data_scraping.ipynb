{
 "cells": [
  {
   "cell_type": "code",
   "execution_count": 7,
   "id": "balanced-sweden",
   "metadata": {},
   "outputs": [],
   "source": [
    "#need to run pip install praw first\n",
    "import praw\n",
    "import pandas as pd"
   ]
  },
  {
   "cell_type": "code",
   "execution_count": 2,
   "id": "referenced-studio",
   "metadata": {},
   "outputs": [],
   "source": [
    "reddit = praw.Reddit(client_id='JKPBLiybYVEN11oyZo59-Q', client_secret='-WfhbRTUWf3qEQBkZveWVfBOL_av6A', user_agent='WSBScraping')"
   ]
  },
  {
   "cell_type": "code",
   "execution_count": 4,
   "id": "religious-industry",
   "metadata": {},
   "outputs": [],
   "source": [
    "posts = []\n",
    "wsb_subreddit = reddit.subreddit('wallstreetbets')"
   ]
  },
  {
   "cell_type": "code",
   "execution_count": 6,
   "id": "silent-equation",
   "metadata": {},
   "outputs": [
    {
     "name": "stdout",
     "output_type": "stream",
     "text": [
      "                                               title  score  num_comments  \\\n",
      "0       What Are Your Moves Tomorrow, April 01, 2022      8           195   \n",
      "1                        /r/place is back this year.    657           185   \n",
      "2                                             G-Unit  21394           343   \n",
      "3                 All the DD the NOK bros ever need.   4340           114   \n",
      "4                                             Stonks   1709            95   \n",
      "5                              Why I Lose on a Trade   3881            81   \n",
      "6                                    Inverse Cramer?    559           137   \n",
      "7  Bought GME weeklies at $100. Rode $1.8k to $18...    456           107   \n",
      "8                         Which one of you did this.   1823            52   \n",
      "9            My room after i day trade for 6.5 hours    238            14   \n",
      "\n",
      "                                                body       created  \n",
      "0  **Read [rules](https://www.reddit.com/r/wallst...  1.648757e+09  \n",
      "1  For those who weren't around,  /r/place was 3-...  1.648670e+09  \n",
      "2                                                     1.648720e+09  \n",
      "3                                                     1.648726e+09  \n",
      "4                                                     1.648743e+09  \n",
      "5                                                     1.648722e+09  \n",
      "6                                                     1.648752e+09  \n",
      "7                                                     1.648750e+09  \n",
      "8                                                     1.648718e+09  \n",
      "9                                                     1.648752e+09  \n"
     ]
    }
   ],
   "source": [
    "for post in wsb_subreddit.hot(limit=10):\n",
    "    posts.append([post.title, post.score, post.num_comments, post.selftext, post.created])\n",
    "posts = pd.DataFrame(posts,columns=['title', 'score', 'num_comments', 'body', 'created'])\n",
    "print(posts)"
   ]
  },
  {
   "cell_type": "code",
   "execution_count": null,
   "id": "independent-newfoundland",
   "metadata": {},
   "outputs": [],
   "source": []
  }
 ],
 "metadata": {
  "kernelspec": {
   "display_name": "Python 3",
   "language": "python",
   "name": "python3"
  },
  "language_info": {
   "codemirror_mode": {
    "name": "ipython",
    "version": 3
   },
   "file_extension": ".py",
   "mimetype": "text/x-python",
   "name": "python",
   "nbconvert_exporter": "python",
   "pygments_lexer": "ipython3",
   "version": "3.7.9"
  }
 },
 "nbformat": 4,
 "nbformat_minor": 5
}
